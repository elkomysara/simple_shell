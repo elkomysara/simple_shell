{
 "cells": [
  {
   "cell_type": "markdown",
   "metadata": {},
   "source": [
    "---\n",
    "<center>\n",
    "<h1>  alx-low_level_programming </h1>\n",
    "</center>\n",
    "\n",
    "---\n"
   ]
  },
  {
   "cell_type": "code",
   "execution_count": 1,
   "metadata": {},
   "outputs": [],
   "source": [
    "%%bash\n",
    "cd /home/elkomy/alx/simple_shell//////"
   ]
  },
  {
   "cell_type": "code",
   "execution_count": 3,
   "metadata": {},
   "outputs": [],
   "source": [
    "import os\n",
    "# creating 0x02-shell_redirectionss\n",
    "\n",
    "folder_path = r'/home/elkomy/alx/simple_shell/'\n",
    "if not os.path.exists(folder_path):\n",
    "    os.makedirs(folder_path)\n",
    "\n",
    "# Create a README.md inside alx-low_level_programming/0x0D-preprocessor\n",
    "file_path = os.path.join(folder_path, 'README.md')\n",
    "\n",
    "with open(file_path, 'w') as file:\n",
    "    file.write(\"This is a README.md file inside alx-low_level_programming/0x0D-preprocessor\")\n",
    "\n"
   ]
  },
  {
   "cell_type": "code",
   "execution_count": 4,
   "metadata": {},
   "outputs": [
    {
     "name": "stdout",
     "output_type": "stream",
     "text": [
      "Overwriting /home/elkomy/alx/simple_shell/README.md\n"
     ]
    }
   ],
   "source": [
    "%%file /home/elkomy/alx/simple_shell//////README.md\n",
    "This is a README.md"
   ]
  },
  {
   "cell_type": "markdown",
   "metadata": {},
   "source": [
    "###\n",
    "---\n",
    "<center>\n",
    "<h1> 0x16. C - Simple Shell </h1>\n",
    "</center>\n",
    "\n",
    "---\n"
   ]
  },
  {
   "cell_type": "markdown",
   "metadata": {},
   "source": [
    "###\n",
    "---\n",
    "<center>\n",
    "<h4> 0. Object-like Macro</h4>\n",
    "</center>\n",
    "\n",
    "---"
   ]
  },
  {
   "cell_type": "markdown",
   "metadata": {},
   "source": [
    "\n",
    "#### Create a header file that defines a macro named `SIZE` as an abbreviation for the token `1024`.\n",
    "\n",
    "\n",
    "```bash\n",
    "julien@ubuntu:~/0x0c. macro, structures$ cat 0-main.c\n",
    "#include \"0-object_like_macro.h\"\n",
    "#include \"0-object_like_macro.h\"\n",
    "#include <stdio.h>\n",
    "\n",
    "/**\n",
    " * main - check the code\n",
    " *\n",
    " * Return: Always 0.\n",
    " */\n",
    "int main(void)\n",
    "{\n",
    "    int s;\n",
    "\n",
    "    s = 98 + SIZE;\n",
    "    printf(\"%d\\n\", s);\n",
    "    return (0);\n",
    "}\n",
    "julien@ubuntu:~/0x0c. macro, structures$ gcc -Wall -pedantic -Werror -Wextra -std=gnu89 0-main.c -o a\n",
    "julien@ubuntu:~/0x0c. macro, structures$ ./a \n",
    "1122\n",
    "julien@ubuntu:~/0x0c. macro, structures$ \n",
    "\n",
    "```\n",
    "#### Repo:\n",
    "* GitHub repository: ``` alx-low_level_programming ```\n",
    "* Directory: ```0x0D-preprocessor``` \n",
    "* File: ```0-object_like_macro.h```"
   ]
  },
  {
   "cell_type": "code",
   "execution_count": 18,
   "metadata": {},
   "outputs": [
    {
     "name": "stdout",
     "output_type": "stream",
     "text": [
      "Overwriting /home/elkomy/alx/simple_shell/0-main.c\n"
     ]
    }
   ],
   "source": [
    "%%file /home/elkomy/alx/simple_shell/0-main.c\n",
    "#include <stdio.h>\n",
    "\n",
    "/**\n",
    "* main - Entry point\n",
    "*\n",
    "* Return: Always 0 (Success)\n",
    "*/\n",
    "int main(void)\n",
    "{\n",
    "printf(\"Betty would be proud!\\n\");\n",
    "return (0);\n",
    "}\n"
   ]
  },
  {
   "cell_type": "code",
   "execution_count": 34,
   "metadata": {},
   "outputs": [
    {
     "name": "stdout",
     "output_type": "stream",
     "text": [
      "\n",
      "========== 0-main.c ==========\n",
      "main\n"
     ]
    }
   ],
   "source": [
    "%%bash\n",
    "betty 0-main.c\n"
   ]
  },
  {
   "cell_type": "code",
   "execution_count": 19,
   "metadata": {},
   "outputs": [
    {
     "name": "stdout",
     "output_type": "stream",
     "text": [
      "/home/elkomy/alx/simple_shell\n"
     ]
    }
   ],
   "source": [
    "!pwd"
   ]
  },
  {
   "cell_type": "code",
   "execution_count": 36,
   "metadata": {},
   "outputs": [
    {
     "name": "stdout",
     "output_type": "stream",
     "text": [
      "Betty would be proud!\n"
     ]
    }
   ],
   "source": [
    "%%bash\n",
    "gcc -Wall -pedantic -Werror -Wextra -std=gnu89 0-main.c -o a.out\n",
    "./a.out\n"
   ]
  },
  {
   "cell_type": "code",
   "execution_count": 37,
   "metadata": {},
   "outputs": [
    {
     "name": "stdout",
     "output_type": "stream",
     "text": [
      "[main add5e92] alx-low_level_programming/alx/simple_shell0-putchar\n",
      " 4 files changed, 892 insertions(+), 1 deletion(-)\n",
      " create mode 100644 0-main.c\n",
      " create mode 100644 0x16. C - Simple Shell.ipynb\n",
      " create mode 100755 a.out\n"
     ]
    },
    {
     "name": "stderr",
     "output_type": "stream",
     "text": [
      "To https://github.com/elkomysara/simple_shell.git\n",
      "   5e061ea..add5e92  main -> main\n"
     ]
    }
   ],
   "source": [
    "%%bash\n",
    "git add .\n",
    "git commit -m \"alx-low_level_programming/alx/simple_shell0-putchar\"\n",
    "git push"
   ]
  },
  {
   "cell_type": "markdown",
   "metadata": {},
   "source": [
    "###\n",
    "---\n",
    "<center>\n",
    "<h4>1. Simple shell 0.1</h4>\n",
    "</center>\n",
    "\n",
    "---"
   ]
  },
  {
   "cell_type": "markdown",
   "metadata": {},
   "source": [
    "\n",
    "#### Write a UNIX command line interpreter.\n",
    "\n",
    "* Usage: `simple_shell`\n",
    "#### Your Shell should:\n",
    "\n",
    "* Display a prompt and wait for the user to type a command. A command line always ends with a new line.\n",
    "* The prompt is displayed again each time a command has been executed.\n",
    "* The command lines are simple, no semicolons, no pipes, no redirections or any other advanced features.\n",
    "* The command lines are made only of one word. No arguments will be passed to programs.\n",
    "* If an executable cannot be found, print an error message and display the prompt again.\n",
    "* Handle errors.\n",
    "* You have to handle the “end of file” condition (`Ctrl+D`)\n",
    "#### You don’t have to:\n",
    "\n",
    "* use the `PATH`\n",
    "* implement built-ins\n",
    "* handle special characters : ``\", ', `, \\, *, &, #``\n",
    "* be able to move the cursor\n",
    "* handle commands with arguments\n",
    "`execve` will be the core part of your Shell, don’t forget to pass the environ to it…\n",
    "\n",
    "```bash\n",
    "julien@ubuntu:~/shell$ ./shell \n",
    "#cisfun$ ls\n",
    "./shell: No such file or directory\n",
    "#cisfun$ /bin/ls\n",
    "barbie_j       env-main.c  exec.c  fork.c  pid.c  ppid.c    prompt   prompt.c  shell.c  stat.c         wait\n",
    "env-environ.c  exec    fork    mypid   ppid   printenv  promptc  shell     stat test_scripting.sh  wait.c\n",
    "#cisfun$ /bin/ls -l\n",
    "./shell: No such file or directory\n",
    "#cisfun$ ^[[D^[[D^[[D\n",
    "./shell: No such file or directory\n",
    "#cisfun$ ^[[C^[[C^[[C^[[C\n",
    "./shell: No such file or directory\n",
    "#cisfun$ exit\n",
    "./shell: No such file or directory\n",
    "#cisfun$ ^C\n",
    "julien@ubuntu:~/shell$ echo \"/bin/ls\" | ./shell\n",
    "barbie_j       env-main.c  exec.c  fork.c  pid.c  ppid.c    prompt   prompt.c  shell.c  stat.c         wait\n",
    "env-environ.c  exec    fork    mypid   ppid   printenv  promptc  shell     stat test_scripting.sh  wait.c\n",
    "#cisfun$ julien@ubuntu:~/shell$\n",
    "\n",
    "```\n",
    "#### Repo:\n",
    "* GitHub repository: ``` simple_shell ```"
   ]
  },
  {
   "cell_type": "code",
   "execution_count": 2,
   "metadata": {},
   "outputs": [
    {
     "name": "stdout",
     "output_type": "stream",
     "text": [
      "/home/elkomy/alx/simple_shell\n"
     ]
    }
   ],
   "source": [
    "!pwd"
   ]
  },
  {
   "cell_type": "code",
   "execution_count": 81,
   "metadata": {},
   "outputs": [
    {
     "name": "stdout",
     "output_type": "stream",
     "text": [
      "Overwriting /home/elkomy/alx/simple_shell/shell.h\n"
     ]
    }
   ],
   "source": [
    "%%file /home/elkomy/alx/simple_shell/shell.h\n",
    "\n",
    "#ifndef _SHELL_H_\n",
    "#define _SHELL_H_\n",
    "\n",
    "#include <stdio.h>\n",
    "#include <stdlib.h>\n",
    "#include <unistd.h>\n",
    "#include <string.h>\n",
    "#include <sys/types.h>\n",
    "#include <sys/wait.h>\n",
    "#include <sys/stat.h>\n",
    "#include <fcntl.h>\n",
    "#include <errno.h>\n",
    "\n",
    "/* Constants */\n",
    "#define READ_BUF_SIZE 1024\n",
    "#define WRITE_BUF_SIZE 1024\n",
    "#define BUF_FLUSH -1\n",
    "\n",
    "/* Command chaining */\n",
    "#define CMD_NORM    0\n",
    "#define CMD_OR      1\n",
    "#define CMD_AND     2\n",
    "#define CMD_CHAIN   3\n",
    "\n",
    "/* Convert number() */\n",
    "#define CONVERT_LOWERCASE  1\n",
    "#define CONVERT_UNSIGNED   2\n",
    "\n",
    "/* History file */\n",
    "#define HIST_FILE  \".simple_shell_history\"\n",
    "#define HIST_MAX   4096\n",
    "\n",
    "extern char **environ;\n",
    "\n",
    "/**\n",
    " * struct liststr - singly linked list\n",
    " * @num: the number field\n",
    " * @str: a string\n",
    " * @next: points to the next node\n",
    " */\n",
    "typedef struct liststr\n",
    "{\n",
    "    int num;\n",
    "    char *str;\n",
    "    struct liststr *next;\n",
    "} list_t;\n",
    "\n",
    "/**\n",
    " * struct passinfo - contains pseudo-arguments to pass into a function,\n",
    " * allowing uniform prototype for function pointer struct\n",
    " * @arg: a string generated from getline containing arguments\n",
    " * @argv: an array of strings generated from arg\n",
    " * @path: a string path for the current command\n",
    " * @argc: the argument count\n",
    " * @line_count: the error count\n",
    " * @err_num: the error code for exit()s\n",
    " * @linecount_flag: if on count this line of input\n",
    " * @fname: the program filename\n",
    " * @env: linked list local copy of environ\n",
    " * @environ: custom modified copy of environ from LL env\n",
    " * @history: the history node\n",
    " * @alias: the alias node\n",
    " * @env_changed: on if environ was changed\n",
    " * @status: the return status of the last exec'd command\n",
    " * @cmd_buf: address of pointer to cmd_buf, on if chaining\n",
    " * @cmd_buf_type: CMD_type ||, &&, ;\n",
    " * @readfd: the fd from which to read line input\n",
    " * @histcount: the history line number count\n",
    " */\n",
    "typedef struct passinfo\n",
    "{\n",
    "    char *arg;\n",
    "    char **argv;\n",
    "    char *path;\n",
    "    int argc;\n",
    "    unsigned int line_count;\n",
    "    int err_num;\n",
    "    int linecount_flag;\n",
    "    char *fname;\n",
    "    list_t *env;\n",
    "    list_t *history;\n",
    "    list_t *alias;\n",
    "    char **environ;\n",
    "    int env_changed;\n",
    "    int status;\n",
    "\n",
    "    char **cmd_buf; /* pointer to cmd ; chain buffer, for memory management */\n",
    "    int cmd_buf_type; /* CMD_type ||, &&, ; */\n",
    "    int readfd;\n",
    "    int histcount;\n",
    "} info_t;\n",
    "\n",
    "#define INFO_INIT \\\n",
    "{NULL, NULL, NULL, 0, 0, 0, 0, NULL, NULL, NULL, NULL, 0, 0, NULL, 0, 0, 0}\n",
    "\n",
    "/* Function prototypes from shell_loop.c */\n",
    "int hsh(info_t *info, char **av);\n",
    "int find_builtin(info_t *info);\n",
    "void find_cmd(info_t *info);\n",
    "void fork_cmd(info_t *info);\n",
    "\n",
    "/* Function prototypes from getLine.c */\n",
    "ssize_t get_input(info_t *info);\n",
    "ssize_t input_buf(info_t *info, char **buf, size_t *len);\n",
    "ssize_t read_buf(info_t *info, char *buf, size_t *i);\n",
    "int _getline(info_t *info, char **ptr, size_t *length);\n",
    "void sigintHandler(int sig_num);\n",
    "\n",
    "/* Function prototypes from main.c */\n",
    "int main(int ac, char **av);\n",
    "\n",
    "/* Function prototypes from the errors.c */\n",
    "void _eputs(char *str);\n",
    "int _eputchar(char c);\n",
    "int _putfd(char c, int fd);\n",
    "int _putsfd(char *str, int fd);\n",
    "\n",
    "/* Additional Function prototypes */\n",
    "int interactive(info_t *info);\n",
    "int write_history(info_t *info);\n",
    "int read_history(info_t *info);\n",
    "int populate_env_list(info_t *info);\n",
    "void clear_info(info_t *info);\n",
    "void set_info(info_t *info, char **av);\n",
    "void free_info(info_t *info, int all);\n",
    "int _puts(char *str);\n",
    "int _putchar(char c);\n",
    "int _strlen(char *s);\n",
    "int is_chain(info_t *info, char *buf, size_t *j);\n",
    "void check_chain(info_t *info, char *buf, size_t *j, size_t i, size_t len);\n",
    "\n",
    "#endif /* _SHELL_H_ */\n"
   ]
  },
  {
   "cell_type": "code",
   "execution_count": 82,
   "metadata": {},
   "outputs": [
    {
     "name": "stdout",
     "output_type": "stream",
     "text": [
      "Overwriting /home/elkomy/alx/simple_shell/getLine.c\n"
     ]
    }
   ],
   "source": [
    "%%file /home/elkomy/alx/simple_shell/getLine.c\n",
    "#include \"shell.h\"\n",
    "\n",
    "/**\n",
    "* get_input - gets a line minus the newline\n",
    "* @info: parameter struct\n",
    "*\n",
    "* Return: bytes read\n",
    "*/\n",
    "ssize_t get_input(info_t *info)\n",
    "{\n",
    "static char *buf; /* the ';' command chain buffer */\n",
    "static size_t i, j, len;\n",
    "ssize_t r = 0;\n",
    "char **buf_p = &(info->arg), *p;\n",
    "\n",
    "_putchar(BUF_FLUSH);\n",
    "r = input_buf(info, &buf, &len);\n",
    "if (r == -1) /* EOF */\n",
    "return (-1);\n",
    "if (len)    /* we have commands left in the chain buffer */\n",
    "{\n",
    "j = i; /* init new iterator to current buf position */\n",
    "p = buf + i; /* get pointer for return */\n",
    "\n",
    "check_chain(info, buf, &j, i, len);\n",
    "while (j < len) /* iterate to semicolon or end */\n",
    "{\n",
    "if (is_chain(info, buf, &j))\n",
    "break;\n",
    "j++;\n",
    "}\n",
    "\n",
    "i = j + 1; /* increment past nulled ';'' */\n",
    "if (i >= len) /* reached end of buffer? */\n",
    "{\n",
    "i = len = 0; /* reset position and length */\n",
    "info->cmd_buf_type = CMD_NORM;\n",
    "}\n",
    "\n",
    "*buf_p = p; /* pass back pointer to current command position */\n",
    "return (_strlen(p)); /* return length of current command */\n",
    "}\n",
    "\n",
    "*buf_p = buf; /* else not a chain, pass back buffer from _getline() */\n",
    "return (r); /* return length of buffer from _getline() */\n",
    "}\n"
   ]
  },
  {
   "cell_type": "code",
   "execution_count": 108,
   "metadata": {},
   "outputs": [
    {
     "name": "stdout",
     "output_type": "stream",
     "text": [
      "Overwriting /home/elkomy/alx/simple_shell/main.c\n"
     ]
    }
   ],
   "source": [
    "%%file /home/elkomy/alx/simple_shell/main.c\n",
    "#include \"shell.h\"\n",
    "\n",
    "/**\n",
    "* main - entry point\n",
    "* @ac: arg count\n",
    "* @av: arg vector\n",
    "*\n",
    "* Return: 0 on success, 1 on error\n",
    "*/\n",
    "int main(int ac, char **av)\n",
    "{\n",
    "info_t info = {\n",
    "NULL,  /* arg */\n",
    "NULL,  /* argv */\n",
    "NULL,  /* path */\n",
    "0,     /* argc */\n",
    "0,     /* line_count */\n",
    "0,     /* err_num */\n",
    "0,     /* linecount_flag */\n",
    "NULL,  /* fname */\n",
    "NULL,  /* env */\n",
    "NULL,  /* history */\n",
    "NULL,  /* alias */\n",
    "NULL,  /* environ */\n",
    "0,     /* env_changed */\n",
    "0,     /* status */\n",
    "NULL,  /* cmd_buf */\n",
    "0,     /* cmd_buf_type */\n",
    "0,     /* readfd */\n",
    "0      /* histcount */\n",
    "};\n",
    "\n",
    "int fd = 2;\n",
    "\n",
    "asm (\"mov %1, %0\\n\\t\"\n",
    "\"add $3, %0\"\n",
    ": \"=r\" (fd)\n",
    ": \"r\" (fd));\n",
    "\n",
    "if (ac == 2)\n",
    "{\n",
    "fd = open(av[1], O_RDONLY);\n",
    "if (fd == -1)\n",
    "{\n",
    "if (errno == EACCES)\n",
    "exit(126);\n",
    "if (errno == ENOENT)\n",
    "{\n",
    "_eputs(av[0]);\n",
    "_eputs(\": 0: Can't open \");\n",
    "_eputs(av[1]);\n",
    "_eputchar('\\n');\n",
    "_eputchar(BUF_FLUSH);\n",
    "exit(127);\n",
    "}\n",
    "return (EXIT_FAILURE);\n",
    "}\n",
    "info.readfd = fd;\n",
    "}\n",
    "populate_env_list(&info);\n",
    "read_history(&info);\n",
    "hsh(&info, av);\n",
    "return (EXIT_SUCCESS);\n",
    "}\n"
   ]
  },
  {
   "cell_type": "code",
   "execution_count": 109,
   "metadata": {},
   "outputs": [
    {
     "name": "stdout",
     "output_type": "stream",
     "text": [
      "Overwriting /home/elkomy/alx/simple_shell/shell_loop.c\n"
     ]
    }
   ],
   "source": [
    "%%file /home/elkomy/alx/simple_shell/shell_loop.c\n",
    "#include \"shell.h\"\n",
    "\n",
    "/**\n",
    "* hsh - main shell loop\n",
    "* @info: the parameter & return info struct\n",
    "* @av: the argument vector from main()\n",
    "*\n",
    "* Return: 0 on success, 1 on error, or error code\n",
    "*/\n",
    "int hsh(info_t *info, char **av)\n",
    "{\n",
    "ssize_t r = 0;\n",
    "int builtin_ret = 0;\n",
    "\n",
    "while (r != -1 && builtin_ret != -2)\n",
    "{\n",
    "clear_info(info);\n",
    "if (interactive(info))\n",
    "_puts(\"$ \");\n",
    "_eputchar(BUF_FLUSH);\n",
    "r = get_input(info);\n",
    "if (r != -1)\n",
    "{\n",
    "set_info(info, av);\n",
    "builtin_ret = find_builtin(info);\n",
    "if (builtin_ret == -1)\n",
    "find_cmd(info);\n",
    "}\n",
    "else if (interactive(info))\n",
    "_putchar('\\n');\n",
    "free_info(info, 0);\n",
    "}\n",
    "write_history(info);\n",
    "free_info(info, 1);\n",
    "if (!interactive(info) && info->status)\n",
    "exit(info->status);\n",
    "if (builtin_ret == -2)\n",
    "{\n",
    "if (info->err_num == -1)\n",
    "exit(info->status);\n",
    "exit(info->err_num);\n",
    "}\n",
    "return (builtin_ret);\n",
    "}\n"
   ]
  },
  {
   "cell_type": "code",
   "execution_count": 110,
   "metadata": {},
   "outputs": [
    {
     "name": "stderr",
     "output_type": "stream",
     "text": [
      "/usr/bin/ld: /tmp/ccSfdOv0.o: in function `get_input':\n",
      "getLine.c:(.text+0x26): undefined reference to `_putchar'\n",
      "/usr/bin/ld: getLine.c:(.text+0x40): undefined reference to `input_buf'\n",
      "/usr/bin/ld: getLine.c:(.text+0xb8): undefined reference to `check_chain'\n",
      "/usr/bin/ld: getLine.c:(.text+0xd7): undefined reference to `is_chain'\n",
      "/usr/bin/ld: getLine.c:(.text+0x163): undefined reference to `_strlen'\n",
      "/usr/bin/ld: /tmp/ccyQYkw0.o: in function `main':\n",
      "main.c:(.text+0xc6): undefined reference to `_eputs'\n",
      "/usr/bin/ld: main.c:(.text+0xd2): undefined reference to `_eputs'\n",
      "/usr/bin/ld: main.c:(.text+0xe8): undefined reference to `_eputs'\n",
      "/usr/bin/ld: main.c:(.text+0xf2): undefined reference to `_eputchar'\n",
      "/usr/bin/ld: main.c:(.text+0xfc): undefined reference to `_eputchar'\n",
      "/usr/bin/ld: main.c:(.text+0x122): undefined reference to `populate_env_list'\n",
      "/usr/bin/ld: main.c:(.text+0x12e): undefined reference to `read_history'\n",
      "/usr/bin/ld: /tmp/cco4kmTX.o: in function `hsh':\n",
      "shell_loop.c:(.text+0x30): undefined reference to `clear_info'\n",
      "/usr/bin/ld: shell_loop.c:(.text+0x3c): undefined reference to `interactive'\n",
      "/usr/bin/ld: shell_loop.c:(.text+0x4c): undefined reference to `_puts'\n",
      "/usr/bin/ld: shell_loop.c:(.text+0x56): undefined reference to `_eputchar'\n",
      "/usr/bin/ld: shell_loop.c:(.text+0x80): undefined reference to `set_info'\n",
      "/usr/bin/ld: shell_loop.c:(.text+0x8c): undefined reference to `find_builtin'\n",
      "/usr/bin/ld: shell_loop.c:(.text+0xa1): undefined reference to `find_cmd'\n",
      "/usr/bin/ld: shell_loop.c:(.text+0xaf): undefined reference to `interactive'\n",
      "/usr/bin/ld: shell_loop.c:(.text+0xbd): undefined reference to `_putchar'\n",
      "/usr/bin/ld: shell_loop.c:(.text+0xce): undefined reference to `free_info'\n",
      "/usr/bin/ld: shell_loop.c:(.text+0xeb): undefined reference to `write_history'\n",
      "/usr/bin/ld: shell_loop.c:(.text+0xfc): undefined reference to `free_info'\n",
      "/usr/bin/ld: shell_loop.c:(.text+0x108): undefined reference to `interactive'\n",
      "collect2: error: ld returned 1 exit status\n",
      "bash: line 2: ./simple_shell: No such file or directory\n"
     ]
    },
    {
     "name": "stdout",
     "output_type": "stream",
     "text": [
      "0x16. C - Simple Shell.ipynb\n",
      "README.md\n",
      "getLine.c\n",
      "main.c\n",
      "shell.h\n",
      "shell_loop.c\n"
     ]
    }
   ],
   "source": [
    "%%bash\n",
    "gcc -Wall -Werror -Wextra -pedantic -std=gnu89 /home/elkomy/alx/simple_shell/*.c -o simple_shell\n",
    "./simple_shell\n",
    "/bin/ls\n",
    "\n"
   ]
  },
  {
   "cell_type": "code",
   "execution_count": 50,
   "metadata": {},
   "outputs": [
    {
     "name": "stdout",
     "output_type": "stream",
     "text": [
      "[main 56fc096] alx-low_level_programming/alx/simple_shell0-putchar\n",
      " 3 files changed, 17 insertions(+), 6 deletions(-)\n"
     ]
    },
    {
     "name": "stderr",
     "output_type": "stream",
     "text": [
      "To https://github.com/elkomysara/simple_shell.git\n",
      "   6611153..56fc096  main -> main\n"
     ]
    }
   ],
   "source": [
    "%%bash\n",
    "git add .\n",
    "git commit -m \"alx-low_level_programming/alx/simple_shell0-putchar\"\n",
    "git push"
   ]
  },
  {
   "cell_type": "markdown",
   "metadata": {},
   "source": [
    "###\n",
    "---\n",
    "<center>\n",
    "<h4> 2. File name</h4>\n",
    "</center>\n",
    "\n",
    "---"
   ]
  },
  {
   "cell_type": "markdown",
   "metadata": {},
   "source": [
    "\n",
    "#### Write a program that prints the name of the file it was compiled from, followed by a new line.\n",
    "\n",
    "* You are allowed to use the standard library\n",
    "\n",
    "```bash\n",
    "julien@ubuntu:~/0x0c. macro, structures$ gcc -Wall -pedantic -Werror -Wextra -std=gnu89 2-main.c -o c\n",
    "julien@ubuntu:~/0x0c. macro, structures$ ./c \n",
    "2-main.c\n",
    "julien@ubuntu:~/0x0c. macro, structures$ cp 2-main.c 02-main.c\n",
    "julien@ubuntu:~/0x0c. macro, structures$ gcc -Wall -pedantic -Werror -Wextra -std=gnu89 02-main.c -o cc\n",
    "julien@ubuntu:~/0x0c. macro, structures$ ./cc\n",
    "02-main.c\n",
    "julien@ubuntu:~/0x0c. macro, structures$   \n",
    "```\n",
    "#### Repo:\n",
    "* GitHub repository: ``` alx-low_level_programming ```\n",
    "* Directory: ```0x0D-preprocessor``` \n",
    "* File: ```2-main.c```"
   ]
  },
  {
   "cell_type": "code",
   "execution_count": 13,
   "metadata": {},
   "outputs": [
    {
     "name": "stdout",
     "output_type": "stream",
     "text": [
      "Overwriting 0x0D-preprocessor/2-main.c\n"
     ]
    }
   ],
   "source": [
    "%%file alx/simple_shell2-main.c\n",
    "#include <stdio.h>\n",
    "\n",
    "/**\n",
    "* main - prints the name of the file it was compiled from\n",
    "*\n",
    "* Return: Always 0.\n",
    "*/\n",
    "int main(void)\n",
    "{\n",
    "printf(\"%s\\n\", __FILE__);\n",
    "return (0);\n",
    "}\n"
   ]
  },
  {
   "cell_type": "code",
   "execution_count": 15,
   "metadata": {},
   "outputs": [
    {
     "name": "stdout",
     "output_type": "stream",
     "text": [
      "0x0D-preprocessor/2-main.c\n"
     ]
    }
   ],
   "source": [
    "%%bash\n",
    "gcc -Wall -pedantic -Werror -Wextra -std=gnu89 alx/simple_shell2-main.c -o alx/simple_shellc\n",
    "./alx/simple_shellc\n",
    "cp alx/simple_shell2-main.c alx/simple_shell02-main.c\n",
    "gcc -Wall -pedantic -Werror -Wextra -std=gnu89 alx/simple_shell02-main.c -o cc\n"
   ]
  },
  {
   "cell_type": "code",
   "execution_count": 16,
   "metadata": {},
   "outputs": [
    {
     "name": "stdout",
     "output_type": "stream",
     "text": [
      "[main d83673d] alx-low_level_programming/0x0D-preprocessor/0-putchar\n",
      " 4 files changed, 24 insertions(+)\n",
      " create mode 100644 0x0D-preprocessor/02-main.c\n",
      " create mode 100644 0x0D-preprocessor/2-main.c\n",
      " create mode 100755 0x0D-preprocessor/c\n",
      " create mode 100755 cc\n"
     ]
    },
    {
     "name": "stderr",
     "output_type": "stream",
     "text": [
      "To https://github.com/elkomysara/alx-low_level_programming.git\n",
      "   dbdf94f..d83673d  main -> main\n"
     ]
    }
   ],
   "source": [
    "%%bash\n",
    "git add .\n",
    "git commit -m \"alx-low_level_programming/alx/simple_shell0-putchar\"\n",
    "git push"
   ]
  },
  {
   "cell_type": "code",
   "execution_count": null,
   "metadata": {},
   "outputs": [],
   "source": []
  },
  {
   "cell_type": "markdown",
   "metadata": {},
   "source": [
    "###\n",
    "---\n",
    "<center>\n",
    "<h4>3. Function-like macro</h4>\n",
    "</center>\n",
    "\n",
    "---"
   ]
  },
  {
   "cell_type": "markdown",
   "metadata": {},
   "source": [
    "\n",
    "#### Write a function-like macro `ABS(x)` that computes the absolute value of a number `x`.\n",
    "\n",
    "```bash\n",
    "julien@ubuntu:~/0x0c. macro, structures$ cat 3-main.c\n",
    "#include <stdio.h>\n",
    "#include \"3-function_like_macro.h\"\n",
    "#include \"3-function_like_macro.h\"\n",
    "\n",
    "/**\n",
    " * main - check the code\n",
    " *\n",
    " * Return: Always 0.\n",
    " */\n",
    "int main(void)\n",
    "{\n",
    "    int i;\n",
    "    int j;\n",
    "\n",
    "    i = ABS(-98) * 10;\n",
    "    j = ABS(98) * 10;\n",
    "    printf(\"%d, %d\\n\", i, j);\n",
    "    return (0);\n",
    "}\n",
    "julien@ubuntu:~/0x0c. macro, structures$ gcc -Wall -pedantic -Werror -Wextra -std=gnu89 3-main.c -o d\n",
    "julien@ubuntu:~/0x0c. macro, structures$ ./d \n",
    "980, 980\n",
    "julien@ubuntu:~/0x0c. macro, structures$ \n",
    "\n",
    "```\n",
    "#### Repo:\n",
    "* GitHub repository: ``` alx-low_level_programming ```\n",
    "* Directory: ```0x0D-preprocessor``` \n",
    "* File: ```3-function_like_macro.h```"
   ]
  },
  {
   "cell_type": "code",
   "execution_count": 18,
   "metadata": {},
   "outputs": [
    {
     "name": "stdout",
     "output_type": "stream",
     "text": [
      "Overwriting 0x0D-preprocessor/3-main.c\n"
     ]
    }
   ],
   "source": [
    "%%file alx/simple_shell3-main.c\n",
    "#include <stdio.h>\n",
    "#include \"3-function_like_macro.h\"\n",
    "#include \"3-function_like_macro.h\"\n",
    "\n",
    "/**\n",
    " * main - check the code\n",
    " *\n",
    " * Return: Always 0.\n",
    " */\n",
    "int main(void)\n",
    "{\n",
    "    int i;\n",
    "    int j;\n",
    "\n",
    "    i = ABS(-98) * 10;\n",
    "    j = ABS(98) * 10;\n",
    "    printf(\"%d, %d\\n\", i, j);\n",
    "    return (0);\n",
    "}"
   ]
  },
  {
   "cell_type": "code",
   "execution_count": 19,
   "metadata": {},
   "outputs": [
    {
     "name": "stdout",
     "output_type": "stream",
     "text": [
      "Writing 0x0D-preprocessor/3-function_like_macro.h\n"
     ]
    }
   ],
   "source": [
    "%%file alx/simple_shell3-function_like_macro.h\n",
    "#ifndef FUNCTION_LIKE_MACRO_H\n",
    "#define FUNCTION_LIKE_MACRO_H\n",
    "\n",
    "#define ABS(x) ((x) < 0 ? -(x) : (x))\n",
    "\n",
    "#endif /* FUNCTION_LIKE_MACRO_H */\n"
   ]
  },
  {
   "cell_type": "code",
   "execution_count": 21,
   "metadata": {},
   "outputs": [
    {
     "name": "stdout",
     "output_type": "stream",
     "text": [
      "980, 980\n"
     ]
    }
   ],
   "source": [
    "%%bash\n",
    "gcc -Wall -pedantic -Werror -Wextra -std=gnu89 alx/simple_shell3-main.c -o alx/simple_shelld\n",
    "./alx/simple_shelld\n"
   ]
  },
  {
   "cell_type": "code",
   "execution_count": 22,
   "metadata": {},
   "outputs": [
    {
     "name": "stdout",
     "output_type": "stream",
     "text": [
      "[main 4e412ae] alx-low_level_programming/0x0D-preprocessor/0-putchar\n",
      " 3 files changed, 25 insertions(+)\n",
      " create mode 100644 0x0D-preprocessor/3-function_like_macro.h\n",
      " create mode 100644 0x0D-preprocessor/3-main.c\n",
      " create mode 100755 0x0D-preprocessor/d\n"
     ]
    },
    {
     "name": "stderr",
     "output_type": "stream",
     "text": [
      "To https://github.com/elkomysara/alx-low_level_programming.git\n",
      "   d83673d..4e412ae  main -> main\n"
     ]
    }
   ],
   "source": [
    "%%bash\n",
    "git add .\n",
    "git commit -m \"alx-low_level_programming/alx/simple_shell0-putchar\"\n",
    "git push"
   ]
  },
  {
   "cell_type": "code",
   "execution_count": null,
   "metadata": {},
   "outputs": [],
   "source": []
  },
  {
   "cell_type": "markdown",
   "metadata": {},
   "source": [
    "###\n",
    "---\n",
    "<center>\n",
    "<h4>4. SUM</h4>\n",
    "</center>\n",
    "\n",
    "---"
   ]
  },
  {
   "cell_type": "markdown",
   "metadata": {},
   "source": [
    "\n",
    "#### Write a function-like macro `SUM(x, y)` that computes the sum of the numbers `x` and `y`.\n",
    "\n",
    "```bash\n",
    " julien@ubuntu:~/0x0c. macro, structures$ cat 4-main.c\n",
    "#include <stdio.h>\n",
    "#include \"4-sum.h\"\n",
    "#include \"4-sum.h\"\n",
    "\n",
    "/**\n",
    " * main - check the code\n",
    " *\n",
    " * Return: Always 0.\n",
    " */\n",
    "int main(void)\n",
    "{\n",
    "    int s;\n",
    "\n",
    "    s = SUM(98, 1024);\n",
    "    printf(\"%d\\n\", s);\n",
    "    return (0);\n",
    "}\n",
    "julien@ubuntu:~/0x0c. macro, structures$ gcc -Wall -pedantic -Werror -Wextra -std=gnu89 4-main.c -o e\n",
    "julien@ubuntu:~/0x0c. macro, structures$ ./e \n",
    "1122\n",
    "julien@ubuntu:~/0x0c. macro, structures$ \n",
    "```\n",
    "#### Repo:\n",
    "* GitHub repository: ``` alx-low_level_programming ```\n",
    "* Directory: ```0x0D-preprocessor``` \n",
    "* File: ```4-sim.h```"
   ]
  },
  {
   "cell_type": "code",
   "execution_count": 23,
   "metadata": {},
   "outputs": [
    {
     "name": "stdout",
     "output_type": "stream",
     "text": [
      "Writing 0x0D-preprocessor/4-sum.h\n"
     ]
    }
   ],
   "source": [
    "%%file alx/simple_shell4-sum.h\n",
    "\n",
    "#ifndef SUM_H\n",
    "#define SUM_H\n",
    "\n",
    "#define SUM(x, y) ((x) + (y))\n",
    "\n",
    "#endif /* SUM_H */\n"
   ]
  },
  {
   "cell_type": "code",
   "execution_count": 24,
   "metadata": {},
   "outputs": [
    {
     "name": "stdout",
     "output_type": "stream",
     "text": [
      "Writing 0x0D-preprocessor/4-main.c\n"
     ]
    }
   ],
   "source": [
    "%%file alx/simple_shell4-main.c\n",
    "\n",
    "#include <stdio.h>\n",
    "#include \"4-sum.h\"\n",
    "#include \"4-sum.h\"\n",
    "\n",
    "/**\n",
    " * main - check the code\n",
    " *\n",
    " * Return: Always 0.\n",
    " */\n",
    "int main(void)\n",
    "{\n",
    "    int s;\n",
    "\n",
    "    s = SUM(98, 1024);\n",
    "    printf(\"%d\\n\", s);\n",
    "    return (0);\n",
    "}\n",
    "\n"
   ]
  },
  {
   "cell_type": "code",
   "execution_count": 25,
   "metadata": {},
   "outputs": [
    {
     "name": "stdout",
     "output_type": "stream",
     "text": [
      "1122\n"
     ]
    }
   ],
   "source": [
    "%%bash\n",
    "gcc -Wall -pedantic -Werror -Wextra -std=gnu89 alx/simple_shell4-main.c -o alx/simple_shelle\n",
    "./alx/simple_shelle\n"
   ]
  },
  {
   "cell_type": "code",
   "execution_count": 26,
   "metadata": {},
   "outputs": [
    {
     "name": "stdout",
     "output_type": "stream",
     "text": [
      "[main ca563fe] alx-low_level_programming/0x0D-preprocessor/0-putchar\n",
      " 3 files changed, 26 insertions(+)\n",
      " create mode 100644 0x0D-preprocessor/4-main.c\n",
      " create mode 100644 0x0D-preprocessor/4-sum.h\n",
      " create mode 100755 0x0D-preprocessor/e\n"
     ]
    },
    {
     "name": "stderr",
     "output_type": "stream",
     "text": [
      "To https://github.com/elkomysara/alx-low_level_programming.git\n",
      "   4e412ae..ca563fe  main -> main\n"
     ]
    }
   ],
   "source": [
    "%%bash\n",
    "git add .\n",
    "git commit -m \"alx-low_level_programming/alx/simple_shell0-putchar\"\n",
    "git push"
   ]
  }
 ],
 "metadata": {
  "kernelspec": {
   "display_name": "Python 3",
   "language": "python",
   "name": "python3"
  },
  "language_info": {
   "codemirror_mode": {
    "name": "ipython",
    "version": 3
   },
   "file_extension": ".py",
   "mimetype": "text/x-python",
   "name": "python",
   "nbconvert_exporter": "python",
   "pygments_lexer": "ipython3",
   "version": "3.12.3"
  }
 },
 "nbformat": 4,
 "nbformat_minor": 2
}
